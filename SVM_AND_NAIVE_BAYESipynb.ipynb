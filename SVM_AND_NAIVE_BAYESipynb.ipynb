{
  "nbformat": 4,
  "nbformat_minor": 0,
  "metadata": {
    "colab": {
      "provenance": []
    },
    "kernelspec": {
      "name": "python3",
      "display_name": "Python 3"
    },
    "language_info": {
      "name": "python"
    }
  },
  "cells": [
    {
      "cell_type": "markdown",
      "source": [
        "#SVM & Naive bayes:\n",
        "\n"
      ],
      "metadata": {
        "id": "R-uTuShL4Ku_"
      }
    },
    {
      "cell_type": "markdown",
      "source": [
        "#Theoretical Questions:-"
      ],
      "metadata": {
        "id": "n_GfMUEo4S7p"
      }
    },
    {
      "cell_type": "markdown",
      "source": [
        "Q1. What is a Support Vector Machine (SVM)?\n",
        "\n",
        ".A Support Vector Machine (SVM) is a supervised learning algorithm used for both classification and regression. It finds a hyperplane (or a series of hyperplanes) that best separates different classes in a data set, maximizing the margin between them. SVMs are known for their ability to handle both linear and non-linear data, making them versatile for various machine learning tasks."
      ],
      "metadata": {
        "id": "5dtNXEuJ4adQ"
      }
    },
    {
      "cell_type": "markdown",
      "source": [
        "Q2.What is the difference between Hard Margin and Soft Margin SVM?\n",
        "\n",
        ".Hard margin SVM seeks to perfectly separate data points into classes, while soft margin SVM allows for some misclassifications to improve generalization and avoid overfitting."
      ],
      "metadata": {
        "id": "sfU3uy-14-2W"
      }
    },
    {
      "cell_type": "markdown",
      "source": [
        "Q3. What is the mathematical intuition behind SVM?\n",
        "\n",
        ".The core mathematical idea behind Support Vector Machines (SVMs) is to find the best separating hyperplane that maximizes the margin between classes."
      ],
      "metadata": {
        "id": "e83sQTfH5RLu"
      }
    },
    {
      "cell_type": "markdown",
      "source": [
        "Q4.What is the role of Lagrange Multipliers in SVM?\n",
        "\n",
        ".In Support Vector Machines (SVMs), Lagrange multipliers play a crucial role in solving the optimization problem to find the optimal hyperplane that maximizes the margin between classes."
      ],
      "metadata": {
        "id": "wl8nWWVB5gbZ"
      }
    },
    {
      "cell_type": "markdown",
      "source": [
        "Q5. What are Support Vectors in SVM?\n",
        "\n",
        ".n Support Vector Machines (SVM), support vectors are the data points closest to the decision boundary (hyperplane). They are crucial because they determine the location and orientation of the hyperplane, which is used to separate different classes of data."
      ],
      "metadata": {
        "id": "K1yJElh75_s5"
      }
    },
    {
      "cell_type": "markdown",
      "source": [
        "Q6.What is a Support Vector Classifier (SVC)?\n",
        "\n",
        ".A support vector classifier (SVC), or more broadly a Support Vector Machine (SVM), is a supervised machine learning algorithm used for classification. It aims to find the best possible boundary (a hyperplane in higher-dimensional space) that separates different classes in a dataset, maximizing the margin between these classes."
      ],
      "metadata": {
        "id": "udvKORMp6L53"
      }
    },
    {
      "cell_type": "markdown",
      "source": [
        "Q7.What is a Support Vector Regressor (SVR)?\n",
        "\n",
        ".Support Vector Regression (SVR) is a machine learning technique used for regression tasks, which predict continuous values, by finding a hyperplane with the maximum margin between data points. It's an extension of Support Vector Machines (SVMs) (which are primarily used for classification)."
      ],
      "metadata": {
        "id": "QlLRJZ9G6Xsa"
      }
    },
    {
      "cell_type": "markdown",
      "source": [
        "Q8.What is the Kernel Trick in SVM?\n",
        "\n",
        ".The kernel trick in Support Vector Machines (SVMs) is a powerful technique that allows linear SVM classifiers to solve non-linear classification problems by implicitly mapping data into a higher-dimensional space."
      ],
      "metadata": {
        "id": "sJm26ANu6mra"
      }
    },
    {
      "cell_type": "markdown",
      "source": [
        "Q9.Compare Linear Kernel, Polynomial Kernel, and RBF Kernel?\n",
        "\n",
        ".Linear, polynomial, and RBF kernels are different types of kernel functions used in Support Vector Machines (SVMs) to map data into higher-dimensional spaces for classification or regression. Linear kernels are simple dot products, while polynomial kernels involve polynomial functions, and RBF kernels are based on radial basis functions."
      ],
      "metadata": {
        "id": "YRtWYRW564a_"
      }
    },
    {
      "cell_type": "markdown",
      "source": [
        "Q10.What is the effect of the C parameter in SVM?\n",
        "\n",
        ".n Support Vector Machines (SVM), the parameter C controls the trade-off between minimizing misclassifications and maximizing the margin. Increasing C leads to a smaller margin and more misclassifications, while decreasing C leads to a wider margin and potentially more misclassifications."
      ],
      "metadata": {
        "id": "gBBEMd5a7Fqp"
      }
    },
    {
      "cell_type": "markdown",
      "source": [
        "Q11.What is the role of the Gamma parameter in RBF Kernel SVM?\n",
        "\n",
        ".In an RBF kernel Support Vector Machine (SVM), the gamma parameter controls the influence of a single training example on the decision boundary. Essentially, it defines how \"far\" the influence of a single data point reaches. A higher gamma value means each data point has a narrower radius of influence, potentially leading to overfitting, while a lower gamma value results in a broader influence, which can lead to underfitting.\n"
      ],
      "metadata": {
        "id": "s4nl0kmF7R7v"
      }
    },
    {
      "cell_type": "markdown",
      "source": [
        "Q12.What is the Naïve Bayes classifier, and why is it called \"Naïve\"?\n",
        "\n",
        ".Naive Bayes Classifiers | GeeksforGeeksThe Naive Bayes classifier is a simple probabilistic classifier based on Bayes' theorem that assumes independence between features. It's called \"naive\" because this independence assumption is often unrealistic, but the algorithm still performs surprisingly well in many real-world applications.\n"
      ],
      "metadata": {
        "id": "CxyjWXAG7frn"
      }
    },
    {
      "cell_type": "markdown",
      "source": [
        "Q13.What is Bayes’ Theorem?\n",
        "\n",
        ".Bayes' Theorem is a fundamental concept in probability theory and is widely used in machine learning, particularly for classification tasks. It provides a way to update the probability of an event based on new evidence. In essence, it allows machine learning models to learn from data and refine their predictions as more information becomes available."
      ],
      "metadata": {
        "id": "srkxYAKL75aH"
      }
    },
    {
      "cell_type": "markdown",
      "source": [
        "Q15.When should you use Gaussian Naïve Bayes over other variants?\n",
        "\n",
        ".Gaussian Naive Bayes is best used when your input features are continuous (numerical) and their values are assumed to follow a normal (Gaussian) distribution. This makes it particularly well-suited for scenarios like predicting house prices, medical diagnoses, or sentiment analysis, where features like age, income, or height are relevant.\n"
      ],
      "metadata": {
        "id": "qGBnioL98G0m"
      }
    },
    {
      "cell_type": "markdown",
      "source": [
        "Q16. What are the key assumptions made by Naïve Bayes?\n",
        "\n",
        ".Naive Bayes algorithms make key assumptions about the relationship between features and the target class. Primarily, they assume that all features are conditionally independent of each other, given the class label, and that each feature contributes equally to the outcome."
      ],
      "metadata": {
        "id": "7h0c-Ut08byi"
      }
    },
    {
      "cell_type": "markdown",
      "source": [
        "Q17. What are the advantages and disadvantages of Naïve Bayes?\n",
        "\n",
        ".Naive Bayes offers several advantages, including speed and efficiency, especially with large datasets, and simplicity of implementation. However, it also has disadvantages, notably the assumption of feature independence, which is often not true in real-world scenarios, leading to potential accuracy issues."
      ],
      "metadata": {
        "id": "jg7jk9wD8qQE"
      }
    },
    {
      "cell_type": "markdown",
      "source": [
        "Q18. Why is Naïve Bayes a good choice for text classification?\n",
        "\n",
        ".Naïve Bayes is a popular and effective choice for text classification due to its simplicity, speed, and ability to handle high-dimensional data, which is common in text analysis. It excels at classifying text into different categories, such as spam detection, sentiment analysis, and document classification."
      ],
      "metadata": {
        "id": "m9tpAR4T84y7"
      }
    },
    {
      "cell_type": "markdown",
      "source": [
        "Q19. Compare SVM and Naïve Bayes for classification tasks?\n",
        "\n",
        ".SVM (Support Vector Machine) and Naïve Bayes are two popular classification algorithms with different strengths and weaknesses. SVM is known for its ability to handle complex and high-dimensional data, while Naïve Bayes is known for its simplicity, speed, and good performance in certain scenarios."
      ],
      "metadata": {
        "id": "JOJ4TmHI9E9K"
      }
    },
    {
      "cell_type": "markdown",
      "source": [
        "Q20. How does Laplace Smoothing help in Naïve Bayes?\n",
        "\n",
        ".Laplace smoothing (also known as add-one smoothing) addresses this by adding a small, positive constant to the count of each feature in each class.\n",
        "\n",
        "This ensures that no feature has a zero probability, even if it doesn't appear in the training data.\n",
        "\n",
        "By adding a constant, the model can still make reasonable predictions based on the overall distribution of the data.\n",
        "\n",
        "Commonly, the constant is set to 1 (add-one smoothing) or a small value like 0.5."
      ],
      "metadata": {
        "id": "xlXn8-n69V3f"
      }
    },
    {
      "cell_type": "markdown",
      "source": [
        "#Practical Questions:-"
      ],
      "metadata": {
        "id": "SmcwytgT9wtw"
      }
    },
    {
      "cell_type": "markdown",
      "source": [
        "Q21.Write a Python program to train an SVM Classifier on the Iris dataset and evaluate accuracy."
      ],
      "metadata": {
        "id": "btAVURrV-DVY"
      }
    },
    {
      "cell_type": "code",
      "source": [
        "from sklearn import datasets\n",
        "from sklearn.model_selection import train_test_split\n",
        "from sklearn.svm import SVC\n",
        "from sklearn.metrics import accuracy_score\n",
        "\n",
        "iris = datasets.load_iris()\n",
        "X = iris.data\n",
        "y = iris.target\n",
        "X_train, X_test, y_train, y_test = train_test_split(X, y, test_size=0.2, random_state=42)\n",
        "\n",
        "svm_classifier = SVC(kernel='linear')\n",
        "svm_classifier.fit(X_train, y_train)\n",
        "\n",
        "y_pred = svm_classifier.predict(X_test)\n",
        "\n",
        "accuracy = accuracy_score(y_test, y_pred)\n",
        "print(f\"Accuracy of the SVM classifier on the Iris dataset: {accuracy * 100:.2f}%\")\n"
      ],
      "metadata": {
        "colab": {
          "base_uri": "https://localhost:8080/"
        },
        "id": "GOAJ80hP-q__",
        "outputId": "c6e43a03-bb42-46fe-a1d7-c2e638d7c6fc"
      },
      "execution_count": 1,
      "outputs": [
        {
          "output_type": "stream",
          "name": "stdout",
          "text": [
            "Accuracy of the SVM classifier on the Iris dataset: 100.00%\n"
          ]
        }
      ]
    },
    {
      "cell_type": "markdown",
      "source": [
        "Q22. Write a Python program to train two SVM classifiers with Linear and RBF kernels on the Wine dataset, then\n",
        "compare their accuracies."
      ],
      "metadata": {
        "id": "aUrPyejt-8FB"
      }
    },
    {
      "cell_type": "code",
      "source": [
        "from sklearn import datasets\n",
        "from sklearn.model_selection import train_test_split\n",
        "from sklearn.svm import SVC\n",
        "from sklearn.metrics import accuracy_score\n",
        "\n",
        "wine = datasets.load_wine()\n",
        "X = wine.data\n",
        "y = wine.target\n",
        "\n",
        "X_train, X_test, y_train, y_test = train_test_split(X, y, test_size=0.2, random_state=42)\n",
        "\n",
        "svm_linear = SVC(kernel='linear')\n",
        "svm_linear.fit(X_train, y_train)\n",
        "y_pred_linear = svm_linear.predict(X_test)\n",
        "accuracy_linear = accuracy_score(y_test, y_pred_linear)\n",
        "\n",
        "svm_rbf = SVC(kernel='rbf')\n",
        "svm_rbf.fit(X_train, y_train)\n",
        "y_pred_rbf = svm_rbf.predict(X_test)\n",
        "accuracy_rbf = accuracy_score(y_test, y_pred_rbf)\n",
        "\n",
        "print(f\"Accuracy with Linear Kernel: {accuracy_linear * 100:.2f}%\")\n",
        "print(f\"Accuracy with RBF Kernel:    {accuracy_rbf * 100:.2f}%\")\n",
        "\n",
        "if accuracy_linear > accuracy_rbf:\n",
        "    print(\"Linear kernel performed better.\")\n",
        "elif accuracy_rbf > accuracy_linear:\n",
        "    print(\"RBF kernel performed better.\")\n",
        "else:\n",
        "    print(\"Both kernels performed equally well.\")\n"
      ],
      "metadata": {
        "id": "pTqD-3VS_GHy"
      },
      "execution_count": null,
      "outputs": []
    },
    {
      "cell_type": "markdown",
      "source": [
        "Q23.Write a Python program to train an SVM Regressor (SVR) on a housing dataset and evaluate it using Mean\n",
        "Squared Error (MSE)."
      ],
      "metadata": {
        "id": "jDGk-ed0_ar3"
      }
    },
    {
      "cell_type": "code",
      "source": [
        "from sklearn.datasets import fetch_california_housing\n",
        "from sklearn.model_selection import train_test_split\n",
        "from sklearn.svm import SVR\n",
        "from sklearn.preprocessing import StandardScaler\n",
        "from sklearn.metrics import mean_squared_error\n",
        "\n",
        "data = fetch_california_housing()\n",
        "X = data.data\n",
        "y = data.target\n",
        "\n",
        "X_train, X_test, y_train, y_test = train_test_split(X, y, test_size=0.2, random_state=42)\n",
        "\n",
        "scaler_X = StandardScaler()\n",
        "scaler_y = StandardScaler()\n",
        "\n",
        "X_train_scaled = scaler_X.fit_transform(X_train)\n",
        "X_test_scaled = scaler_X.transform(X_test)\n",
        "y_train_scaled = scaler_y.fit_transform(y_train.reshape(-1, 1)).ravel()\n",
        "y_test_scaled = scaler_y.transform(y_test.reshape(-1, 1)).ravel()\n",
        "\n",
        "svr_model = SVR(kernel='rbf')\n",
        "svr_model.fit(X_train_scaled, y_train_scaled)\n",
        "\n",
        "y_pred_scaled = svr_model.predict(X_test_scaled)\n",
        "\n",
        "y_pred = scaler_y.inverse_transform(y_pred_scaled.reshape(-1, 1)).ravel()\n",
        "\n",
        "mse = mean_squared_error(y_test, y_pred)\n",
        "print(f\"Mean Squared Error of SVR on housing dataset: {mse:.4f}\")\n"
      ],
      "metadata": {
        "colab": {
          "base_uri": "https://localhost:8080/"
        },
        "id": "A1mLqVRX_gVH",
        "outputId": "f040353a-d759-4cd0-a04e-e6df21193f78"
      },
      "execution_count": 3,
      "outputs": [
        {
          "output_type": "stream",
          "name": "stdout",
          "text": [
            "Mean Squared Error of SVR on housing dataset: 0.3542\n"
          ]
        }
      ]
    },
    {
      "cell_type": "markdown",
      "source": [
        "Q24.Write a Python program to train an SVM Classifier with a Polynomial Kernel and visualize the decision\n",
        "boundary."
      ],
      "metadata": {
        "id": "DU8sVZse_y_Y"
      }
    },
    {
      "cell_type": "code",
      "source": [
        "import numpy as np\n",
        "import matplotlib.pyplot as plt\n",
        "from sklearn.datasets import make_classification\n",
        "from sklearn.svm import SVC\n",
        "from sklearn.preprocessing import StandardScaler\n",
        "\n",
        "X, y = make_classification(n_samples=200, n_features=2, n_redundant=0,\n",
        "                           n_informative=2, n_clusters_per_class=1,\n",
        "                           class_sep=1.5, random_state=42)\n",
        ")\n",
        "scaler = StandardScaler()\n",
        "X_scaled = scaler.fit_transform(X)\n",
        "\n",
        "svm_poly = SVC(kernel='poly', degree=3, C=1.0)\n",
        "svm_poly.fit(X_scaled, y)\n",
        "\n",
        "x_min, x_max = X_scaled[:, 0].min() - 1, X_scaled[:, 0].max() + 1\n",
        "y_min, y_max = X_scaled[:, 1].min() - 1, X_scaled[:, 1].max() + 1\n",
        "xx, yy = np.meshgrid(np.linspace(x_min, x_max, 500),\n",
        "                     np.linspace(y_min, y_max, 500))\n",
        "\n",
        "Z = svm_poly.predict(np.c_[xx.ravel(), yy.ravel()])\n",
        "Z = Z.reshape(xx.shape)\n",
        "\n",
        "plt.contourf(xx, yy, Z, cmap=plt.cm.coolwarm, alpha=0.7)\n",
        "plt.scatter(X_scaled[:, 0], X_scaled[:, 1], c=y, cmap=plt.cm.coolwarm, edgecolors='k')\n",
        "plt.title(\"SVM with Polynomial Kernel (degree=3)\")\n",
        "plt.xlabel(\"Feature 1 (scaled)\")\n",
        "plt.ylabel(\"Feature 2 (scaled)\")\n",
        "plt.grid(True)\n",
        "plt.show()\n"
      ],
      "metadata": {
        "id": "0Mm-aJc7_4kq"
      },
      "execution_count": null,
      "outputs": []
    },
    {
      "cell_type": "markdown",
      "source": [
        "Q25.Write a Python program to train a Gaussian Naïve Bayes classifier on the Breast Cancer dataset and\n",
        "evaluate accuracy."
      ],
      "metadata": {
        "id": "mHGcWOHrAJlA"
      }
    },
    {
      "cell_type": "code",
      "source": [
        "from sklearn.datasets import load_breast_cancer\n",
        "from sklearn.model_selection import train_test_split\n",
        "from sklearn.naive_bayes import GaussianNB\n",
        "from sklearn.metrics import accuracy_score\n",
        "\n",
        "data = load_breast_cancer()\n",
        "X = data.data\n",
        "y = data.target\n",
        "\n",
        "X_train, X_test, y_train, y_test = train_test_split(X, y, test_size=0.2, random_state=42)\n",
        "\n",
        "gnb = GaussianNB()\n",
        "gnb.fit(X_train, y_train)\n",
        "\n",
        "y_pred = gnb.predict(X_test)\n",
        "\n",
        "accuracy = accuracy_score(y_test, y_pred)\n",
        "print(f\"Accuracy of Gaussian Naïve Bayes on Breast Cancer dataset: {accuracy * 100:.2f}%\")\n"
      ],
      "metadata": {
        "colab": {
          "base_uri": "https://localhost:8080/"
        },
        "id": "b2NBWFQ6ATPA",
        "outputId": "1e8eade9-64aa-419a-97cb-ccfe0e106855"
      },
      "execution_count": 5,
      "outputs": [
        {
          "output_type": "stream",
          "name": "stdout",
          "text": [
            "Accuracy of Gaussian Naïve Bayes on Breast Cancer dataset: 97.37%\n"
          ]
        }
      ]
    },
    {
      "cell_type": "markdown",
      "source": [
        "Q26.: Write a Python program to train a Multinomial Naïve Bayes classifier for text classification using the 20\n",
        "Newsgroups dataset."
      ],
      "metadata": {
        "id": "8gyVuTRyAe4f"
      }
    },
    {
      "cell_type": "code",
      "source": [
        "from sklearn.datasets import fetch_20newsgroups\n",
        "from sklearn.feature_extraction.text import CountVectorizer\n",
        "from sklearn.model_selection import train_test_split\n",
        "from sklearn.naive_bayes import MultinomialNB\n",
        "from sklearn.metrics import accuracy_score, classification_report\n",
        "\n",
        "categories = ['alt.atheism', 'comp.graphics', 'rec.sport.baseball', 'sci.space']\n",
        "newsgroups = fetch_20newsgroups(subset='a\n",
        "X_train, X_test, y_train, y_test = train_test_split(newsgroups.data, newsgroups.target, test_size=0.2, random_state=42)\n",
        "\n",
        "vectorizer = CountVectorizer(stop_words='english')\n",
        "X_train_counts = vectorizer.fit_transform(X_train)\n",
        "X_test_counts = vectorizer.transform(X_test)\n",
        "\n",
        "clf = MultinomialNB()\n",
        "clf.fit(X_train_counts, y_train)\n",
        "\n",
        "y_pred = clf.predict(X_test_counts)\n",
        "\n",
        "accuracy = accuracy_score(y_test, y_pred)\n",
        "print(f\"Accuracy: {accuracy * 100:.2f}%\")\n",
        "print(\"\\nClassification Report:\")\n",
        "print(classification_report(y_test, y_pred, target_names=newsgroups.target_names))\n"
      ],
      "metadata": {
        "colab": {
          "base_uri": "https://localhost:8080/"
        },
        "id": "VO4-Yu1MAkc4",
        "outputId": "1badfc33-a4ad-4e2b-8cf5-a085ef5044ad"
      },
      "execution_count": 6,
      "outputs": [
        {
          "output_type": "stream",
          "name": "stdout",
          "text": [
            "Accuracy: 90.55%\n",
            "\n",
            "Classification Report:\n",
            "                    precision    recall  f1-score   support\n",
            "\n",
            "       alt.atheism       0.87      0.90      0.88       163\n",
            "     comp.graphics       0.95      0.92      0.93       194\n",
            "rec.sport.baseball       0.87      0.97      0.92       193\n",
            "         sci.space       0.93      0.84      0.88       201\n",
            "\n",
            "          accuracy                           0.91       751\n",
            "         macro avg       0.91      0.91      0.90       751\n",
            "      weighted avg       0.91      0.91      0.91       751\n",
            "\n"
          ]
        }
      ]
    },
    {
      "cell_type": "markdown",
      "source": [
        "Q28. Write a Python program to train a Bernoulli Naïve Bayes classifier for binary classification on a dataset with\n",
        "binary features."
      ],
      "metadata": {
        "id": "fOi6k1fSA3PI"
      }
    },
    {
      "cell_type": "code",
      "source": [
        "from sklearn.datasets import make_classification\n",
        "from sklearn.model_selection import train_test_split\n",
        "from sklearn.naive_bayes import BernoulliNB\n",
        "from sklearn.metrics import accuracy_score\n",
        "\n",
        "X, y = make_classification(n_samples=1000, n_features=20, n_informative=10,\n",
        "                           n_redundant=0, n_classes=2, random_state=42)\n",
        "\n",
        "import numpy as np\n",
        "X_binary = (X > 0).astype(int)\n",
        "\n",
        "X_train, X_test, y_train, y_test = train_test_split(X_binary, y, test_size=0.2, random_state=42)\n",
        "\n",
        "bnb = BernoulliNB()\n",
        "bnb.fit(X_train, y_train)\n",
        "\n",
        "y_pred = bnb.predict(X_test)\n",
        "accuracy = accuracy_score(y_test, y_pred)\n",
        "\n",
        "print(f\"Accuracy of Bernoulli Naïve Bayes on binary feature dataset: {accuracy * 100:.2f}%\")\n"
      ],
      "metadata": {
        "colab": {
          "base_uri": "https://localhost:8080/"
        },
        "id": "D28lIn6bA_LW",
        "outputId": "efa5d53e-f4ba-4278-d22e-82368d7347eb"
      },
      "execution_count": 7,
      "outputs": [
        {
          "output_type": "stream",
          "name": "stdout",
          "text": [
            "Accuracy of Bernoulli Naïve Bayes on binary feature dataset: 75.50%\n"
          ]
        }
      ]
    },
    {
      "cell_type": "markdown",
      "source": [
        "Q29.Write a Python program to apply feature scaling before training an SVM model and compare results with\n",
        "unscaled data."
      ],
      "metadata": {
        "id": "NHbeNu_LBJpg"
      }
    },
    {
      "cell_type": "code",
      "source": [
        "from sklearn.datasets import load_breast_cancer\n",
        "from sklearn.model_selection import train_test_split\n",
        "from sklearn.svm import SVC\n",
        "from sklearn.preprocessing import StandardScaler\n",
        "from sklearn.metrics import accuracy_score\n",
        "\n",
        "data = load_breast_cancer()\n",
        "X = data.data\n",
        "y = data.target\n",
        "\n",
        "X_train, X_test, y_train, y_test = train_test_split(X, y, test_size=0.2, random_state=42)\n",
        "\n",
        "svm_unscaled = SVC(kernel='rbf')\n",
        "svm_unscaled.fit(X_train, y_train)\n",
        "y_pred_unscaled = svm_unscaled.predict(X_test)\n",
        "accuracy_unscaled = accuracy_score(y_test, y_pred_unscaled)\n",
        "\n",
        "scaler = StandardScaler()\n",
        "X_train_scaled = scaler.fit_transform(X_train)\n",
        "X_test_scaled = scaler.transform(X_test)\n",
        "\n",
        "svm_scaled = SVC(kernel='rbf')\n",
        "svm_scaled.fit(X_train_scaled, y_train)\n",
        "y_pred_scaled = svm_scaled.predict(X_test_scaled)\n",
        "accuracy_scaled = accuracy_score(y_test, y_pred_scaled)\n",
        "\n",
        "print(f\"Accuracy without scaling: {accuracy_unscaled * 100:.2f}%\")\n",
        "print(f\"Accuracy with scaling:    {accuracy_scaled * 100:.2f}%\")\n",
        "\n",
        "if accuracy_scaled > accuracy_unscaled:\n",
        "    print(\"Feature scaling improved the model performance.\")\n",
        "elif accuracy_scaled < accuracy_unscaled:\n",
        "    print(\"Feature scaling decreased the model performance.\")\n",
        "else:\n",
        "    print(\"Feature scaling had no effect on model performance.\")\n"
      ],
      "metadata": {
        "colab": {
          "base_uri": "https://localhost:8080/"
        },
        "id": "JoV8n5cvBPCQ",
        "outputId": "030f35ce-54d6-4769-bd10-a54a5cd556e6"
      },
      "execution_count": 8,
      "outputs": [
        {
          "output_type": "stream",
          "name": "stdout",
          "text": [
            "Accuracy without scaling: 94.74%\n",
            "Accuracy with scaling:    98.25%\n",
            "Feature scaling improved the model performance.\n"
          ]
        }
      ]
    },
    {
      "cell_type": "markdown",
      "source": [
        "Q30.Write a Python program to train a Gaussian Naïve Bayes model and compare the predictions before and\n",
        "after Laplace Smoothing."
      ],
      "metadata": {
        "id": "ogfekV6FBhso"
      }
    },
    {
      "cell_type": "code",
      "source": [
        "from sklearn.datasets import fetch_20newsgroups\n",
        "from sklearn.feature_extraction.text import CountVectorizer\n",
        "from sklearn.model_selection import train_test_split\n",
        "from sklearn.naive_bayes import MultinomialNB\n",
        "from sklearn.metrics import accuracy_score\n",
        "\n",
        "categories = ['rec.sport.hockey', 'sci.space']\n",
        "newsgroups = fetch_20newsgroups(subset='all', categories=categories, remove=('headers', 'footers', 'quotes'))\n",
        "\n",
        "X_train, X_test, y_train, y_test = train_test_split(newsgroups.data, newsgroups.target, test_size=0.2, random_state=42)\n",
        "\n",
        "vectorizer = CountVectorizer(stop_words='english')\n",
        "X_train_counts = vectorizer.fit_transform(X_train)\n",
        "X_test_counts = vectorizer.transform(X_test)\n",
        "\n",
        "model_no_smoothing = MultinomialNB(alpha=0.0)\n",
        "model_no_smoothing.fit(X_train_counts, y_train)\n",
        "pred_no_smoothing = model_no_smoothing.predict(X_test_counts)\n",
        "acc_no_smoothing = accuracy_score(y_test, pred_no_smoothing)\n",
        "\n",
        "model_with_smoothing = MultinomialNB(alpha=1.0)\n",
        "model_with_smoothing.fit(X_train_counts, y_train)\n",
        "pred_with_smoothing = model_with_smoothing.predict(X_test_counts)\n",
        "acc_with_smoothing = accuracy_score(y_test, pred_with_smoothing)\n",
        "\n",
        "print(f\"Accuracy without Laplace smoothing (alpha=0): {acc_no_smoothing * 100:.2f}%\")\n",
        "print(f\"Accuracy with Laplace smoothing (alpha=1):    {acc_with_smoothing * 100:.2f}%\")\n",
        "\n",
        "if acc_with_smoothing > acc_no_smoothing:\n",
        "    print(\"Laplace smoothing improved accuracy.\")\n",
        "elif acc_with_smoothing < acc_no_smoothing:\n",
        "    print(\"Laplace smoothing reduced accuracy.\")\n",
        "else:\n",
        "    print(\"Laplace smoothing had no effect on accuracy.\")\n"
      ],
      "metadata": {
        "colab": {
          "base_uri": "https://localhost:8080/"
        },
        "id": "EGYh4LmOBr7g",
        "outputId": "fb26b433-940b-41bc-b8be-c3699c653462"
      },
      "execution_count": 9,
      "outputs": [
        {
          "output_type": "stream",
          "name": "stdout",
          "text": [
            "Accuracy without Laplace smoothing (alpha=0): 72.11%\n",
            "Accuracy with Laplace smoothing (alpha=1):    95.23%\n",
            "Laplace smoothing improved accuracy.\n"
          ]
        },
        {
          "output_type": "stream",
          "name": "stderr",
          "text": [
            "/usr/local/lib/python3.11/dist-packages/sklearn/naive_bayes.py:898: RuntimeWarning: divide by zero encountered in log\n",
            "  self.feature_log_prob_ = np.log(smoothed_fc) - np.log(\n"
          ]
        }
      ]
    },
    {
      "cell_type": "markdown",
      "source": [
        "Q32.Write a Python program to train an SVM Classifier on an imbalanced dataset and apply class weighting and\n",
        "check it improve accuracy."
      ],
      "metadata": {
        "id": "DuUkT__6B86v"
      }
    },
    {
      "cell_type": "code",
      "source": [
        "from sklearn.datasets import make_classification\n",
        "from sklearn.model_selection import train_test_split\n",
        "from sklearn.svm import SVC\n",
        "from sklearn.metrics import accuracy_score, classification_report\n",
        "import numpy as np\n",
        "\n",
        "X, y = make_classification(n_samples=1000, n_features=20, n_informative=2,\n",
        "                           n_redundant=10, n_clusters_per_class=1,\n",
        "                           weights=[0.9, 0.1], flip_y=0, random_state=42)\n",
        "\n",
        "X_train, X_test, y_train, y_test = train_test_split(X, y, test_size=0.2, random_state=42)\n",
        "\n",
        "svm_no_weight = SVC(kernel='rbf', class_weight=None)\n",
        "svm_no_weight.fit(X_train, y_train)\n",
        "y_pred_no_weight = svm_no_weight.predict(X_test)\n",
        "\n",
        "svm_weighted = SVC(kernel='rbf', class_weight='balanced')\n",
        "svm_weighted.fit(X_train, y_train)\n",
        "y_pred_weighted = svm_weighted.predict(X_test)\n",
        "\n",
        "print(\"== Without Class Weighting ==\")\n",
        "print(f\"Accuracy: {accuracy_score(y_test, y_pred_no_weight) * 100:.2f}%\")\n",
        "print(classification_report(y_test, y_pred_no_weight))\n",
        "\n",
        "print(\"== With Class Weighting ==\")\n",
        "print(f\"Accuracy: {accuracy_score(y_test, y_pred_weighted) * 100:.2f}%\")\n",
        "print(classification_report(y_test, y_pred_weighted))\n"
      ],
      "metadata": {
        "colab": {
          "base_uri": "https://localhost:8080/"
        },
        "id": "wZ7q24hCCDk3",
        "outputId": "cf9e76d4-f299-411d-b43b-6a0d358669ae"
      },
      "execution_count": 10,
      "outputs": [
        {
          "output_type": "stream",
          "name": "stdout",
          "text": [
            "== Without Class Weighting ==\n",
            "Accuracy: 100.00%\n",
            "              precision    recall  f1-score   support\n",
            "\n",
            "           0       1.00      1.00      1.00       186\n",
            "           1       1.00      1.00      1.00        14\n",
            "\n",
            "    accuracy                           1.00       200\n",
            "   macro avg       1.00      1.00      1.00       200\n",
            "weighted avg       1.00      1.00      1.00       200\n",
            "\n",
            "== With Class Weighting ==\n",
            "Accuracy: 98.00%\n",
            "              precision    recall  f1-score   support\n",
            "\n",
            "           0       1.00      0.98      0.99       186\n",
            "           1       0.78      1.00      0.88        14\n",
            "\n",
            "    accuracy                           0.98       200\n",
            "   macro avg       0.89      0.99      0.93       200\n",
            "weighted avg       0.98      0.98      0.98       200\n",
            "\n"
          ]
        }
      ]
    },
    {
      "cell_type": "markdown",
      "source": [
        "Q33. Write a Python program to implement a Naïve Bayes classifier for spam detection using email data."
      ],
      "metadata": {
        "id": "Ze6K_PVECPwo"
      }
    },
    {
      "cell_type": "code",
      "source": [
        "import pandas as pd\n",
        "from sklearn.model_selection import train_test_split\n",
        "from sklearn.feature_extraction.text import CountVectorizer\n",
        "from sklearn.naive_bayes import MultinomialNB\n",
        "from sklearn.metrics import accuracy_score, classification_report\n",
        "\n",
        "url = \"https://archive.ics.uci.edu/ml/machine-learning-databases/00228/smsspamcollection.zip\"\n",
        "\n",
        "df = pd.read_csv(\"SMSSpamCollection\", sep='\\t', header=None, names=[\"Label\", \"Message\"])\n",
        "\n",
        "df['Label'] = df['Label'].map({'ham': 0, 'spam': 1})\n",
        "\n",
        "X = df['Message']\n",
        "y = df['Label']\n",
        "\n",
        "X_train, X_test, y_train, y_test = train_test_split(X, y, test_size=0.2, random_state=42)\n",
        "\n",
        "vectorizer = CountVectorizer(stop_words='english')\n",
        "X_train_counts = vectorizer.fit_transform(X_train)\n",
        "X_test_counts = vectorizer.transform(X_test)\n",
        "\n",
        "nb_classifier = MultinomialNB()\n",
        "nb_classifier.fit(X_train_counts, y_train)\n",
        "\n",
        "y_pred = nb_classifier.predict(X_test_counts)\n",
        "\n",
        "accuracy = accuracy_score(y_test, y_pred)\n",
        "print(f\"Accuracy: {accuracy * 100:.2f}%\")\n",
        "print(\"\\nClassification Report:\")\n",
        "print(classification_report(y_test, y_pred, target_names=['Ham', 'Spam']))\n",
        "\n"
      ],
      "metadata": {
        "id": "edvFHsDCCXr_"
      },
      "execution_count": null,
      "outputs": []
    },
    {
      "cell_type": "markdown",
      "source": [
        "Q34.Write a Python program to train an SVM Classifier and a Naïve Bayes Classifier on the same dataset and\n",
        "compare their accuracy."
      ],
      "metadata": {
        "id": "5V2ult20CsiP"
      }
    },
    {
      "cell_type": "code",
      "source": [
        "from sklearn.datasets import load_iris\n",
        "from sklearn.model_selection import train_test_split\n",
        "from sklearn.svm import SVC\n",
        "from sklearn.naive_bayes import GaussianNB\n",
        "from sklearn.metrics import accuracy_score\n",
        "\n",
        "iris = load_iris()\n",
        "X = iris.data\n",
        "y = iris.target\n",
        "\n",
        "X_train, X_test, y_train, y_test = train_test_split(X, y, test_size=0.2, random_state=42)\n",
        "\n",
        "svm_classifier = SVC(kernel='linear', random_state=42)\n",
        "svm_classifier.fit(X_train, y_train)\n",
        "\n",
        "nb_classifier = GaussianNB()\n",
        "nb_classifier.fit(X_train, y_train)\n",
        "\n",
        "y_pred_svm = svm_classifier.predict(X_test)\n",
        "y_pred_nb = nb_classifier.predict(X_test)\n",
        "\n",
        "accuracy_svm = accuracy_score(y_test, y_pred_svm)\n",
        "accuracy_nb = accuracy_score(y_test, y_pred_nb)\n",
        "\n",
        "print(f\"Accuracy of SVM classifier: {accuracy_svm * 100:.2f}%\")\n",
        "print(f\"Accuracy of Naïve Bayes classifier: {accuracy_nb * 100:.2f}%\")\n",
        "\n",
        "if accuracy_svm > accuracy_nb:\n",
        "    print(\"SVM classifier performed better.\")\n",
        "elif accuracy_svm < accuracy_nb:\n",
        "    print(\"Naïve Bayes classifier performed better.\")\n",
        "else:\n",
        "    print(\"Both classifiers performed equally.\")\n"
      ],
      "metadata": {
        "colab": {
          "base_uri": "https://localhost:8080/"
        },
        "id": "Y4PDTeChCyzv",
        "outputId": "b2858dcd-8dc2-4b6b-dcc2-a2b83f96091b"
      },
      "execution_count": 11,
      "outputs": [
        {
          "output_type": "stream",
          "name": "stdout",
          "text": [
            "Accuracy of SVM classifier: 100.00%\n",
            "Accuracy of Naïve Bayes classifier: 100.00%\n",
            "Both classifiers performed equally.\n"
          ]
        }
      ]
    },
    {
      "cell_type": "markdown",
      "source": [
        "Q35.Write a Python program to perform feature selection before training a Naïve Bayes classifier and compare\n",
        "results."
      ],
      "metadata": {
        "id": "ijIfPhzjC_fY"
      }
    },
    {
      "cell_type": "code",
      "source": [
        "from sklearn.datasets import load_iris\n",
        "from sklearn.model_selection import train_test_split\n",
        "from sklearn.naive_bayes import GaussianNB\n",
        "from sklearn.feature_selection import SelectKBest, f_classif\n",
        "from sklearn.metrics import accuracy_score\n",
        "\n",
        "iris = load_iris()\n",
        "X = iris.data\n",
        "y = iris.target\n",
        "\n",
        "X_train, X_test, y_train, y_test = train_test_split(X, y, test_size=0.2, random_state=42)\n",
        "\n",
        "nb_classifier = GaussianNB()\n",
        "nb_classifier.fit(X_train, y_train)\n",
        "y_pred_no_fs = nb_classifier.predict(X_test)\n",
        "\n",
        "selector = SelectKBest(f_classif, k=2)\n",
        "X_train_selected = selector.fit_transform(X_train, y_train)\n",
        "X_test_selected = selector.transform(X_test)\n",
        "\n",
        "nb_classifier_selected = GaussianNB()\n",
        "nb_classifier_selected.fit(X_train_selected, y_train)\n",
        "y_pred_with_fs = nb_classifier_selected.predict(X_test_selected)\n",
        "\n",
        "accuracy_no_fs = accuracy_score(y_test, y_pred_no_fs)\n",
        "accuracy_with_fs = accuracy_score(y_test, y_pred_with_fs)\n",
        "\n",
        "print(f\"Accuracy without feature selection: {accuracy_no_fs * 100:.2f}%\")\n",
        "print(f\"Accuracy with feature selection:    {accuracy_with_fs * 100:.2f}%\")\n",
        "\n",
        "if accuracy_with_fs > accuracy_no_fs:\n",
        "    print(\"Feature selection improved the model performance.\")\n",
        "elif accuracy_with_fs < accuracy_no_fs:\n",
        "    print(\"Feature selection reduced the model performance.\")\n",
        "else:\n",
        "    print(\"Feature selection had no effect on model performance.\")\n"
      ],
      "metadata": {
        "colab": {
          "base_uri": "https://localhost:8080/"
        },
        "id": "YoAOzaEkDI0A",
        "outputId": "cf0caed2-84ef-4bcc-b46d-71da664f47d0"
      },
      "execution_count": 12,
      "outputs": [
        {
          "output_type": "stream",
          "name": "stdout",
          "text": [
            "Accuracy without feature selection: 100.00%\n",
            "Accuracy with feature selection:    100.00%\n",
            "Feature selection had no effect on model performance.\n"
          ]
        }
      ]
    },
    {
      "cell_type": "markdown",
      "source": [
        "Q37.Write a Python program to train an SVM Classifier using Linear, Polynomial, and RBF kernels on the Breast\n",
        "Cancer dataset and compare their accuracy."
      ],
      "metadata": {
        "id": "JPv9lGRYDVnm"
      }
    },
    {
      "cell_type": "code",
      "source": [
        "from sklearn.datasets import load_breast_cancer\n",
        "from sklearn.model_selection import train_test_split\n",
        "from sklearn.svm import SVC\n",
        "from sklearn.metrics import accuracy_score\n",
        "\n",
        "data = load_breast_cancer()\n",
        "X = data.data\n",
        "y = data.target\n",
        "X_train, X_test, y_train, y_test = train_test_split(X, y, test_size=0.2, random_state=42)\n",
        "\n",
        "svm_linear = SVC(kernel='linear', random_state=42)\n",
        "svm_linear.fit(X_train, y_train)\n",
        "y_pred_linear = svm_linear.predict(X_test)\n",
        "accuracy_linear = accuracy_score(y_test, y_pred_linear)\n",
        "svm_poly = SVC(kernel='poly', degree=3, random_state=42)\n",
        "svm_poly.fit(X_train, y_train)\n",
        "y_pred_poly = svm_poly.predict(X_test)\n",
        "accuracy_poly = accuracy_score(y_test, y_pred_poly)\n",
        "svm_rbf = SVC(kernel='rbf', random_state=42)\n",
        "svm_rbf.fit(X_train, y_train)\n",
        "y_pred_rbf = svm_rbf.predict(X_test)\n",
        "accuracy_rbf = accuracy_score(y_test, y_pred_rbf)\n",
        "\n",
        "print(f\"Accuracy with Linear Kernel: {accuracy_linear * 100:.2f}%\")\n",
        "print(f\"Accuracy with Polynomial Kernel: {accuracy_poly * 100:.2f}%\")\n",
        "print(f\"Accuracy with RBF Kernel: {accuracy_rbf * 100:.2f}%\")\n",
        "\n",
        "if accuracy_linear > accuracy_poly and accuracy_linear > accuracy_rbf:\n",
        "    print(\"Linear kernel performed the best.\")\n",
        "elif accuracy_poly > accuracy_linear and accuracy_poly > accuracy_rbf:\n",
        "    print(\"Polynomial kernel performed the best.\")\n",
        "elif accuracy_rbf > accuracy_linear and accuracy_rbf > accuracy_poly:\n",
        "    print(\"RBF kernel performed the best.\")\n",
        "else:\n",
        "    print(\"All kernels performed similarly.\")\n"
      ],
      "metadata": {
        "id": "NGoBCrziDb0w"
      },
      "execution_count": null,
      "outputs": []
    },
    {
      "cell_type": "markdown",
      "source": [
        "Q38.Write a Python program to train an SVM Classifier using Stratified K-Fold Cross-Validation and compute the\n",
        "average accuracy."
      ],
      "metadata": {
        "id": "h_SQU6PVDqLw"
      }
    },
    {
      "cell_type": "code",
      "source": [
        "from sklearn.datasets import load_iris\n",
        "from sklearn.model_selection import StratifiedKFold\n",
        "from sklearn.svm import SVC\n",
        "from sklearn.metrics import accuracy_score\n",
        "import numpy as np\n",
        "\n",
        "iris = load_iris()\n",
        "X = iris.data\n",
        "y = iris.target\n",
        "\n",
        "kf = StratifiedKFold(n_splits=5, shuffle=True, random_state=42)\n",
        "\n",
        "svm_classifier = SVC(kernel='linear', random_state=42)\n",
        "\n",
        "accuracies = []\n",
        "\n",
        "for train_index, test_index in kf.split(X, y):\n",
        "    X_train, X_test = X[train_index], X[test_index]\n",
        "    y_train, y_test = y[train_index], y[test_index]\n",
        "\n",
        "    svm_classifier.fit(X_train, y_train)\n",
        "\n",
        "    y_pred = svm_classifier.predict(X_test)\n",
        "\n",
        "    accuracy = accuracy_score(y_test, y_pred)\n",
        "    accuracies.append(accuracy)\n",
        "\n",
        "average_accuracy = np.mean(accuracies)\n",
        "\n",
        "print(f\"Accuracies for each fold: {accuracies}\")\n",
        "print(f\"Average accuracy across all folds: {average_accuracy * 100:.2f}%\")\n"
      ],
      "metadata": {
        "colab": {
          "base_uri": "https://localhost:8080/"
        },
        "id": "Dkz4QsIZDyHm",
        "outputId": "a34c475b-8386-461a-bbac-f62b253a01f9"
      },
      "execution_count": 13,
      "outputs": [
        {
          "output_type": "stream",
          "name": "stdout",
          "text": [
            "Accuracies for each fold: [1.0, 1.0, 0.9333333333333333, 1.0, 1.0]\n",
            "Average accuracy across all folds: 98.67%\n"
          ]
        }
      ]
    },
    {
      "cell_type": "markdown",
      "source": [
        "Q40.Write a Python program to perform Recursive Feature Elimination (RFE) before training an SVM Classifier and\n",
        "compare accuracy."
      ],
      "metadata": {
        "id": "VWkG27b0EB6-"
      }
    },
    {
      "cell_type": "code",
      "source": [
        "from sklearn.datasets import load_iris\n",
        "from sklearn.model_selection import train_test_split\n",
        "from sklearn.svm import SVC\n",
        "from sklearn.feature_selection import RFE\n",
        "from sklearn.metrics import accuracy_score\n",
        "\n",
        "iris = load_iris()\n",
        "X = iris.data\n",
        "y = iris.target\n",
        "\n",
        "X_train, X_test, y_train, y_test = train_test_split(X, y, test_size=0.2, random_state=42)\n",
        "\n",
        "svm_classifier = SVC(kernel='linear', random_state=42)\n",
        "svm_classifier.fit(X_train, y_train)\n",
        "y_pred_no_fs = svm_classifier.predict(X_test)\n",
        "\n",
        "rfe = RFE(svm_classifier, n_features_to_select=2)\n",
        "X_train_rfe = rfe.fit_transform(X_train, y_train)\n",
        "X_test_rfe = rfe.transform(X_test)\n",
        "\n",
        "svm_classifier_rfe = SVC(kernel='linear', random_state=42)\n",
        "svm_classifier_rfe.fit(X_train_rfe, y_train)\n",
        "y_pred_with_fs = svm_classifier_rfe.predict(X_test_rfe)\n",
        "\n",
        "accuracy_no_fs = accuracy_score(y_test, y_pred_no_fs)\n",
        "accuracy_with_fs = accuracy_score(y_test, y_pred_with_fs)\n",
        "\n",
        "print(f\"Accuracy without feature selection: {accuracy_no_fs * 100:.2f}%\")\n",
        "print(f\"Accuracy with feature selection:    {accuracy_with_fs * 100:.2f}%\")\n",
        "\n",
        "if accuracy_with_fs > accuracy_no_fs:\n",
        "    print(\"Feature selection improved the model performance.\")\n",
        "elif accuracy_with_fs < accuracy_no_fs:\n",
        "    print(\"Feature selection reduced the model performance.\")\n",
        "else:\n",
        "    print(\"Feature selection had no effect on model performance.\")\n"
      ],
      "metadata": {
        "colab": {
          "base_uri": "https://localhost:8080/"
        },
        "id": "kiMIFXLDEJpR",
        "outputId": "8b105acd-3691-42bf-9f6d-1144424966fb"
      },
      "execution_count": 14,
      "outputs": [
        {
          "output_type": "stream",
          "name": "stdout",
          "text": [
            "Accuracy without feature selection: 100.00%\n",
            "Accuracy with feature selection:    100.00%\n",
            "Feature selection had no effect on model performance.\n"
          ]
        }
      ]
    },
    {
      "cell_type": "markdown",
      "source": [
        "Q41.Write a Python program to train an SVM Classifier and evaluate its performance using Precision, Recall, and\n",
        "F1-Score instead of accuracy."
      ],
      "metadata": {
        "id": "caCKivOlEkVP"
      }
    },
    {
      "cell_type": "code",
      "source": [
        "from sklearn.datasets import load_iris\n",
        "from sklearn.model_selection import train_test_split\n",
        "from sklearn.svm import SVC\n",
        "from sklearn.metrics import precision_score, recall_score, f1_score\n",
        "\n",
        "iris = load_iris()\n",
        "X = iris.data\n",
        "y = iris.target\n",
        "\n",
        "X_train, X_test, y_train, y_test = train_test_split(X, y, test_size=0.2, random_state=42)\n",
        "\n",
        "svm_classifier = SVC(kernel='linear', random_state=42)\n",
        "svm_classifier.fit(X_train, y_train)\n",
        "\n",
        "y_pred = svm_classifier.predict(X_test)\n",
        "\n",
        "precision = precision_score(y_test, y_pred, average='macro', zero_division=1)\n",
        "recall = recall_score(y_test, y_pred, average='macro', zero_division=1)\n",
        "f1 = f1_score(y_test, y_pred, average='macro', zero_division=1)\n",
        "\n",
        "print(f\"Precision (macro): {precision:.2f}\")\n",
        "print(f\"Recall (macro): {recall:.2f}\")\n",
        "print(f\"F1-Score (macro): {f1:.2f}\")\n"
      ],
      "metadata": {
        "colab": {
          "base_uri": "https://localhost:8080/"
        },
        "id": "8dNM0oeREqvn",
        "outputId": "5abb59e3-be25-4b6a-e746-ca43551da574"
      },
      "execution_count": 15,
      "outputs": [
        {
          "output_type": "stream",
          "name": "stdout",
          "text": [
            "Precision (macro): 1.00\n",
            "Recall (macro): 1.00\n",
            "F1-Score (macro): 1.00\n"
          ]
        }
      ]
    },
    {
      "cell_type": "markdown",
      "source": [
        "Q42.Write a Python program to train a Naïve Bayes Classifier and evaluate its performance using Log Loss\n",
        "(Cross-Entropy Loss)."
      ],
      "metadata": {
        "id": "9uj6vArQE_po"
      }
    },
    {
      "cell_type": "code",
      "source": [
        "from sklearn.datasets import load_iris\n",
        "from sklearn.model_selection import train_test_split\n",
        "from sklearn.naive_bayes import GaussianNB\n",
        "from sklearn.metrics import log_loss\n",
        "import numpy as np\n",
        "\n",
        "iris = load_iris()\n",
        "X = iris.data\n",
        "y = iris.target\n",
        "X_train, X_test, y_train, y_test = train_test_split(X, y, test_size=0.2, random_state=42)\n",
        "\n",
        "nb_classifier = GaussianNB()\n",
        "nb_classifier.fit(X_train, y_train)\n",
        "\n",
        "y_pred_proba = nb_classifier.predict_proba(X_test)\n",
        "\n",
        "logloss = log_loss(y_test, y_pred_proba)\n",
        "\n",
        "print(f\"Log Loss (Cross-Entropy Loss): {logloss:.4f}\")\n"
      ],
      "metadata": {
        "colab": {
          "base_uri": "https://localhost:8080/"
        },
        "id": "HQEP0r6hFFb_",
        "outputId": "b79628b1-b4ca-4900-e699-d8e8ae7e1529"
      },
      "execution_count": 16,
      "outputs": [
        {
          "output_type": "stream",
          "name": "stdout",
          "text": [
            "Log Loss (Cross-Entropy Loss): 0.0263\n"
          ]
        }
      ]
    },
    {
      "cell_type": "markdown",
      "source": [
        "Q43.Write a Python program to train an SVM Classifier and visualize the Confusion Matrix using seaborn."
      ],
      "metadata": {
        "id": "HBcXLjxsFV-Q"
      }
    },
    {
      "cell_type": "code",
      "source": [
        "import seaborn as sns\n",
        "import matplotlib.pyplot as plt\n",
        "from sklearn.datasets import load_iris\n",
        "from sklearn.model_selection import train_test_split\n",
        "from sklearn.svm import SVC\n",
        "from sklearn.metrics import confusion_matrix\n",
        "\n",
        "iris = load_iris()\n",
        "X = iris.data\n",
        "y = iris.target\n",
        "\n",
        "X_train, X_test, y_train, y_test = train_test_split(X, y, test_size=0.2, random_state=42)\n",
        "\n",
        "svm_classifier = SVC(kernel='linear', random_state=42)\n",
        "svm_classifier.fit(X_train, y_train)\n",
        "\n",
        "y_pred = svm_classifier.predict(X_test)\n",
        "\n",
        "cm = confusion_matrix(y_test, y_pred)\n",
        "\n",
        "plt.figure(figsize=(6, 5))\n",
        "sns.heatmap(cm, annot=True, fmt='d', cmap='Blues', xticklabels=iris.target_names, yticklabels=iris.target_names)\n",
        "plt.title('Confusion Matrix')\n",
        "plt.xlabel('Predicted')\n",
        "plt.ylabel('True')\n",
        "plt.show()\n"
      ],
      "metadata": {
        "colab": {
          "base_uri": "https://localhost:8080/",
          "height": 487
        },
        "id": "V6vzy0j_FcZQ",
        "outputId": "c87ce8ef-06f4-4fe5-b021-2c95d7a8d4f2"
      },
      "execution_count": 17,
      "outputs": [
        {
          "output_type": "display_data",
          "data": {
            "text/plain": [
              "<Figure size 600x500 with 2 Axes>"
            ],
            "image/png": "[encoded data removed]"
          },
          "metadata": {}
        }
      ]
    },
    {
      "cell_type": "markdown",
      "source": [
        "Q44.Write a Python program to train an SVM Regressor (SVR) and evaluate its performance using Mean Absolute\n",
        "Error (MAE) instead of MSE."
      ],
      "metadata": {
        "id": "ha5wGD9jFomJ"
      }
    },
    {
      "cell_type": "code",
      "source": [
        "from sklearn.datasets import load_iris\n",
        "from sklearn.model_selection import train_test_split\n",
        "from sklearn.svm import SVR\n",
        "from sklearn.metrics import mean_absolute_error\n",
        "\n",
        "iris = load_iris()\n",
        "X = iris.data\n",
        "y = iris.target\n",
        "\n",
        "X = iris.data[:, 1].reshape(-1, 1)\n",
        "y = iris.target\n",
        "\n",
        "X_train, X_test, y_train, y_test = train_test_split(X, y, test_size=0.2, random_state=42)\n",
        "\n",
        "svr = SVR(kernel='linear')\n",
        "svr.fit(X_train, y_train)\n",
        "\n",
        "y_pred = svr.predict(X_test)\n",
        "\n",
        "mae = mean_absolute_error(y_test, y_pred)\n",
        "\n",
        "print(f\"Mean Absolute Error (MAE): {mae:.4f}\")\n"
      ],
      "metadata": {
        "colab": {
          "base_uri": "https://localhost:8080/"
        },
        "id": "m2Yi5aGLFvEv",
        "outputId": "8189de0c-a540-4e8f-d98f-2a9944158232"
      },
      "execution_count": 18,
      "outputs": [
        {
          "output_type": "stream",
          "name": "stdout",
          "text": [
            "Mean Absolute Error (MAE): 0.6637\n"
          ]
        }
      ]
    },
    {
      "cell_type": "markdown",
      "source": [
        "Q45.Write a Python program to train a Naïve Bayes classifier and evaluate its performance using the ROC-AUC\n",
        "score."
      ],
      "metadata": {
        "id": "miHvqZRvF8Z5"
      }
    },
    {
      "cell_type": "code",
      "source": [
        "from sklearn.datasets import load_breast_cancer\n",
        "from sklearn.model_selection import train_test_split\n",
        "from sklearn.naive_bayes import GaussianNB\n",
        "from sklearn.metrics import roc_auc_score\n",
        "\n",
        "data = load_breast_cancer()\n",
        "X = data.data\n",
        "y = data.target\n",
        "\n",
        "X_train, X_test, y_train, y_test = train_test_split(X, y, test_size=0.2, random_state=42)\n",
        "\n",
        "nb_classifier = GaussianNB()\n",
        "nb_classifier.fit(X_train, y_train)\n",
        "\n",
        "y_pred_prob = nb_classifier.predict_proba(X_test)[:, 1]\n",
        "\n",
        "roc_auc = roc_auc_score(y_test, y_pred_prob)\n",
        "\n",
        "print(f\"ROC-AUC Score: {roc_auc:.4f}\")\n"
      ],
      "metadata": {
        "colab": {
          "base_uri": "https://localhost:8080/"
        },
        "id": "W8udAGjhGC0G",
        "outputId": "b9eebd29-0496-4e83-d2c9-6545174f2da9"
      },
      "execution_count": 19,
      "outputs": [
        {
          "output_type": "stream",
          "name": "stdout",
          "text": [
            "ROC-AUC Score: 0.9984\n"
          ]
        }
      ]
    },
    {
      "cell_type": "markdown",
      "source": [
        "Q46. Write a Python program to train an SVM Classifier and visualize the Precision-Recall Curve."
      ],
      "metadata": {
        "id": "N3OvLKz9GOpw"
      }
    },
    {
      "cell_type": "code",
      "source": [
        "import matplotlib.pyplot as plt\n",
        "from sklearn.datasets import load_breast_cancer\n",
        "from sklearn.model_selection import train_test_split\n",
        "from sklearn.svm import SVC\n",
        "from sklearn.metrics import precision_recall_curve\n",
        "\n",
        "data = load_breast_cancer()\n",
        "X = data.data\n",
        "y = data.target\n",
        "\n",
        "X_train, X_test, y_train, y_test = train_test_split(X, y, test_size=0.2, random_state=42)\n",
        "\n",
        "svm_classifier = SVC(kernel='rbf', probability=True, random_state=42)\n",
        "svm_classifier.fit(X_train, y_train)\n",
        "\n",
        "y_pred_prob = svm_classifier.predict_proba(X_test)[:, 1]\n",
        "precision, recall, _ = precision_recall_curve(y_test, y_pred_prob)\n",
        "\n",
        "plt.figure(figsize=(8, 6))\n",
        "plt.plot(recall, precision, marker='.', color='b', label='SVM Classifier')\n",
        "plt.title('Precision-Recall Curve')\n",
        "plt.xlabel('Recall')\n",
        "plt.ylabel('Precision')\n",
        "plt.grid(True)\n",
        "plt.legend()\n",
        "plt.show()\n"
      ],
      "metadata": {
        "colab": {
          "base_uri": "https://localhost:8080/",
          "height": 564
        },
        "id": "FIWcoxqgGXXJ",
        "outputId": "c6fe56ee-ddd8-4507-97af-295afc3af76c"
      },
      "execution_count": 20,
      "outputs": [
        {
          "output_type": "display_data",
          "data": {
            "text/plain": [
              "<Figure size 800x600 with 1 Axes>"
            ],
            "image/png": "[encoded data removed]"
          },
          "metadata": {}
        }
      ]
    }
  ]
}